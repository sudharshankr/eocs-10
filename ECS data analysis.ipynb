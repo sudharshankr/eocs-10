{
 "cells": [
  {
   "cell_type": "code",
   "execution_count": 76,
   "metadata": {},
   "outputs": [],
   "source": [
    "import pandas as pd\n",
    "import re\n",
    "import matplotlib.pyplot as plt\n",
    "import numpy as np"
   ]
  },
  {
   "cell_type": "code",
   "execution_count": 2,
   "metadata": {},
   "outputs": [],
   "source": [
    "# change path of file accordingly\n",
    "# df_march_13 = pd.read_json('../critical_201303_23.json', lines=True)"
   ]
  },
  {
   "cell_type": "code",
   "execution_count": 19,
   "metadata": {},
   "outputs": [],
   "source": [
    "# Getting the number of unique IP addresses per country appearing in the dataset df...\n",
    "def country_filter(df):\n",
    "    for rows in range(len(df)):\n",
    "        new_val = df.iloc[rows]['geo']\n",
    "        if new_val:\n",
    "            df.at[rows,'country'] = new_val['c']\n",
    "        else:\n",
    "            df.at[rows,'country'] = ''\n",
    "    df_unique = df.drop_duplicates(subset='ip')\n",
    "    per_country_counts = df_unique.country.value_counts()\n",
    "    return (df_unique, per_country_counts)"
   ]
  },
  {
   "cell_type": "code",
   "execution_count": 9,
   "metadata": {},
   "outputs": [],
   "source": [
    "# cleaning the banner of unwanted charecters...\n",
    "def clean_banner(df):\n",
    "    for rows in range(len(df)):\n",
    "        df.at[rows,'banner'] = re.sub('(\\\\\\\\x(([a-z][a-z])|([0-9][0-9])|([0-9][a-z])|([a-z][0-9])))|\\\\r\\\\n', '', df.iloc[rows]['banner']).lstrip()\n",
    "        \n",
    "    return df"
   ]
  },
  {
   "cell_type": "code",
   "execution_count": 5,
   "metadata": {},
   "outputs": [],
   "source": [
    "# Counting routers...\n",
    "def count_routers(df):\n",
    "    count_router = 0\n",
    "    count_server = 0\n",
    "    router = \"router\"\n",
    "    for rows in range(len(df)):\n",
    "        if router in df.iloc[rows][\"banner\"].lower():\n",
    "            count_router+=1\n",
    "        else:\n",
    "            count_server+=1\n",
    "    return (count_router, count_server)"
   ]
  },
  {
   "cell_type": "code",
   "execution_count": 57,
   "metadata": {},
   "outputs": [],
   "source": [
    "#Searching banners for specific implementations given in the `keyword` list...\n",
    "def banner_filter(df):\n",
    "    keywords = ['cisco','d-link','freebsd','jetdirect','netgear','solaris','proftpd']\n",
    "    potential_ips = {'CHN':[], 'USA':[], 'KOR':[]}\n",
    "    sources = {'CHN':set(), 'USA':set(), 'KOR':set()}\n",
    "    for rows in range(len(df)):\n",
    "        country = df.iloc[rows]['country']\n",
    "        if country in potential_ips.keys():\n",
    "            banner_info = df.iloc[rows]['banner'].lower()\n",
    "            for i in range(len(keywords)):\n",
    "                keyword = keywords[i]\n",
    "                if keyword in banner_info:\n",
    "                    potential_ips[country].append(df.iloc[rows]['ip'])\n",
    "                    sources[country].add(keyword)\n",
    "                    i = len(keywords)\n",
    "                \n",
    "    return (potential_ips, sources)"
   ]
  },
  {
   "cell_type": "code",
   "execution_count": 58,
   "metadata": {},
   "outputs": [],
   "source": [
    "def extract_banner_wise_data(filename):\n",
    "    print(\"Extracting banner data for\", filename)\n",
    "    df = pd.read_json(filename, lines=True)\n",
    "    print('Filtering countries...')\n",
    "    (df, country_stats) = country_filter(df)\n",
    "    print('Scanning banners...')\n",
    "    (potential_ips, sources) = banner_filter(df)\n",
    "    return (df, country_stats, potential_ips, sources)"
   ]
  },
  {
   "cell_type": "code",
   "execution_count": 77,
   "metadata": {},
   "outputs": [
    {
     "name": "stdout",
     "output_type": "stream",
     "text": [
      "Extracting banner data for ../critical_201302_23.json\n",
      "Filtering countries...\n",
      "Scanning banners...\n",
      "Extracting banner data for ../critical_201301_23.json\n",
      "Filtering countries...\n",
      "Scanning banners...\n",
      "Extracting banner data for ../critical_201303_23.json\n",
      "Filtering countries...\n",
      "Scanning banners...\n"
     ]
    }
   ],
   "source": [
    "# Feb 2013\n",
    "(df_feb_13, country_stats_feb_13, potential_ips_feb_13, sources_feb_13) = extract_banner_wise_data('../critical_201302_23.json')\n",
    "\n",
    "# Jan 2013\n",
    "(df_jan_13, country_stats_jan_13, potential_ips_jan_13, sources_jan_13) = extract_banner_wise_data('../critical_201301_23.json')\n",
    "\n",
    "#Mar 2013\n",
    "(df_mar_13, country_stats_mar_13, potential_ips_mar_13, sources_mar_13) = extract_banner_wise_data('../critical_201303_23.json')"
   ]
  },
  {
   "cell_type": "code",
   "execution_count": 79,
   "metadata": {},
   "outputs": [
    {
     "name": "stdout",
     "output_type": "stream",
     "text": [
      "Extracting banner data for ../critical_201205_23.json\n",
      "Filtering countries...\n",
      "Scanning banners...\n",
      "Extracting banner data for ../critical_201206_23.json\n",
      "Filtering countries...\n",
      "Scanning banners...\n",
      "Extracting banner data for ../critical_201207_23.json\n",
      "Filtering countries...\n",
      "Scanning banners...\n",
      "Extracting banner data for ../critical_201208_23.json\n",
      "Filtering countries...\n",
      "Scanning banners...\n",
      "Extracting banner data for ../critical_201209_23.json\n",
      "Filtering countries...\n",
      "Scanning banners...\n",
      "Extracting banner data for ../critical_201210_23.json\n",
      "Filtering countries...\n",
      "Scanning banners...\n",
      "Extracting banner data for ../critical_201211_23.json\n",
      "Filtering countries...\n",
      "Scanning banners...\n",
      "Extracting banner data for ../critical_201212_23.json\n",
      "Filtering countries...\n",
      "Scanning banners...\n"
     ]
    }
   ],
   "source": [
    "#May 2012\n",
    "(df_may_12, country_stats_may_12, potential_ips_may_12, sources_may_12) = extract_banner_wise_data('../critical_201205_23.json')\n",
    "\n",
    "#Jun 2012\n",
    "(df_jun_12, country_stats_jun_12, potential_ips_jun_12, sources_jun_12) = extract_banner_wise_data('../critical_201206_23.json')\n",
    "\n",
    "#Jul 2012\n",
    "(df_jul_12, country_stats_jul_12, potential_ips_jul_12, sources_jul_12) = extract_banner_wise_data('../critical_201207_23.json')\n",
    "\n",
    "#Aug 2012\n",
    "(df_aug_12, country_stats_aug_12, potential_ips_aug_12, sources_aug_12) = extract_banner_wise_data('../critical_201208_23.json')\n",
    "\n",
    "#Sep 2012\n",
    "(df_sep_12, country_stats_sep_12, potential_ips_sep_12, sources_sep_12) = extract_banner_wise_data('../critical_201209_23.json')\n",
    "\n",
    "#Oct 2012\n",
    "(df_oct_12, country_stats_oct_12, potential_ips_oct_12, sources_oct_12) = extract_banner_wise_data('../critical_201210_23.json')\n",
    "\n",
    "#Nov 2012\n",
    "(df_nov_12, country_stats_nov_12, potential_ips_nov_12, sources_nov_12) = extract_banner_wise_data('../critical_201211_23.json')\n",
    "\n",
    "#Dec 2012\n",
    "(df_dec_12, country_stats_dec_12, potential_ips_dec_12, sources_dec_12) = extract_banner_wise_data('../critical_201212_23.json')\n"
   ]
  },
  {
   "cell_type": "code",
   "execution_count": 90,
   "metadata": {},
   "outputs": [
    {
     "data": {
      "text/plain": [
       "CHN    665802\n",
       "USA    262478\n",
       "KOR    236931\n",
       "BRA     73561\n",
       "IND     64916\n",
       "        ...  \n",
       "SPM         1\n",
       "TKL         1\n",
       "PRK         1\n",
       "VAT         1\n",
       "A1          1\n",
       "Name: country, Length: 232, dtype: int64"
      ]
     },
     "execution_count": 90,
     "metadata": {},
     "output_type": "execute_result"
    }
   ],
   "source": [
    "country_stats_mar_13"
   ]
  },
  {
   "cell_type": "code",
   "execution_count": 100,
   "metadata": {},
   "outputs": [
    {
     "data": {
      "text/plain": [
       "<matplotlib.axes._subplots.AxesSubplot at 0x6e60eaad0>"
      ]
     },
     "execution_count": 100,
     "metadata": {},
     "output_type": "execute_result"
    },
    {
     "data": {
      "image/png": "[encoded data removed]",
      "text/plain": [
       "<Figure size 1440x720 with 1 Axes>"
      ]
     },
     "metadata": {
      "needs_background": "light"
     },
     "output_type": "display_data"
    }
   ],
   "source": [
    "country_stats_mar_13[:50].plot.bar(figsize=(20,10))"
   ]
  },
  {
   "cell_type": "code",
   "execution_count": 103,
   "metadata": {},
   "outputs": [
    {
     "name": "stdout",
     "output_type": "stream",
     "text": [
      "Mar 2013: \n",
      "CHN: 997,\n",
      "USA: 5285,\n",
      "KOR: 663\n",
      "\n",
      "Feb 2013: \n",
      "CHN: 972,\n",
      "USA: 5226,\n",
      "KOR: 552\n",
      "\n",
      "Jan 2013: \n",
      "CHN: 1171,\n",
      "USA: 6385,\n",
      "KOR: 747\n",
      "\n"
     ]
    },
    {
     "data": {
      "image/png": "[encoded data removed]",
      "text/plain": [
       "<Figure size 1080x504 with 1 Axes>"
      ]
     },
     "metadata": {
      "needs_background": "light"
     },
     "output_type": "display_data"
    },
    {
     "data": {
      "text/plain": [
       "<Figure size 3600x3600 with 0 Axes>"
      ]
     },
     "metadata": {},
     "output_type": "display_data"
    }
   ],
   "source": [
    "print('Mar 2013: \\nCHN: %d,\\nUSA: %d,\\nKOR: %d\\n' \n",
    "      % (len(potential_ips_mar_13['CHN']), len(potential_ips_mar_13['USA']), len(potential_ips_mar_13['KOR'])))\n",
    "print('Feb 2013: \\nCHN: %d,\\nUSA: %d,\\nKOR: %d\\n' \n",
    "      % (len(potential_ips_feb_13['CHN']), len(potential_ips_feb_13['USA']), len(potential_ips_feb_13['KOR'])))\n",
    "print('Jan 2013: \\nCHN: %d,\\nUSA: %d,\\nKOR: %d\\n' \n",
    "      % (len(potential_ips_jan_13['CHN']), len(potential_ips_jan_13['USA']), len(potential_ips_jan_13['KOR'])))\n",
    "\n",
    "labels = ['May 2012','Jun 2012','Jul 2012','Aug 2012','Sep 2012','Oct 2012',\n",
    "          'Nov 2012','Dec 2012','Jan 2013', 'Feb 2013', 'Mar 2013']\n",
    "chn_counts = [len(potential_ips_may_12['CHN']), len(potential_ips_jun_12['CHN']), len(potential_ips_jul_12['CHN']),\n",
    "              len(potential_ips_aug_12['CHN']), len(potential_ips_sep_12['CHN']), len(potential_ips_oct_12['CHN']),\n",
    "              len(potential_ips_nov_12['CHN']), len(potential_ips_dec_12['CHN']), len(potential_ips_jan_13['CHN']), \n",
    "              len(potential_ips_feb_13['CHN']), len(potential_ips_mar_13['CHN'])]\n",
    "\n",
    "usa_counts = [len(potential_ips_may_12['USA']), len(potential_ips_jun_12['USA']), len(potential_ips_jul_12['USA']),\n",
    "              len(potential_ips_aug_12['USA']), len(potential_ips_sep_12['USA']), len(potential_ips_oct_12['USA']),\n",
    "              len(potential_ips_nov_12['USA']), len(potential_ips_dec_12['USA']), len(potential_ips_jan_13['USA']), \n",
    "              len(potential_ips_feb_13['USA']), len(potential_ips_mar_13['USA'])]\n",
    "\n",
    "kor_counts = [len(potential_ips_may_12['KOR']), len(potential_ips_jun_12['KOR']), len(potential_ips_jul_12['KOR']),\n",
    "              len(potential_ips_aug_12['KOR']), len(potential_ips_sep_12['KOR']), len(potential_ips_oct_12['KOR']),\n",
    "              len(potential_ips_nov_12['KOR']), len(potential_ips_dec_12['KOR']), len(potential_ips_jan_13['KOR']), \n",
    "              len(potential_ips_feb_13['KOR']), len(potential_ips_mar_13['KOR'])]\n",
    "\n",
    "x = np.arange(len(labels))  # the label locations\n",
    "width = 0.25  # the width of the bars\n",
    "\n",
    "fig, ax = plt.subplots(figsize=(15,7))\n",
    "rects1 = ax.bar(x - width, chn_counts, width, label='CHN')\n",
    "rects2 = ax.bar(x + width, usa_counts, width, label='USA')\n",
    "rects3 = ax.bar(x, kor_counts, width, label = 'KOR')\n",
    "\n",
    "# Add some text for labels, title and custom x-axis tick labels, etc.\n",
    "ax.set_ylabel('Counts')\n",
    "# ax.set_title('Counts by country from Jan to Mar 2013')\n",
    "ax.set_xticks(x)\n",
    "ax.set_xticklabels(labels)\n",
    "ax.legend()\n",
    "\n",
    "\n",
    "def autolabel(rects):\n",
    "    \"\"\"Attach a text label above each bar in *rects*, displaying its height.\"\"\"\n",
    "    for rect in rects:\n",
    "        height = rect.get_height()\n",
    "        ax.annotate('{}'.format(height),\n",
    "                    xy=(rect.get_x() + rect.get_width() / 3, height),\n",
    "                    xytext=(0, 3),  # 3 points vertical offset\n",
    "                    textcoords=\"offset points\",\n",
    "                    ha='center', va='bottom')\n",
    "\n",
    "\n",
    "autolabel(rects1)\n",
    "autolabel(rects2)\n",
    "autolabel(rects3)\n",
    "\n",
    "fig.tight_layout()\n",
    "plt.figure(figsize=(50,50))\n",
    "\n",
    "plt.show()"
   ]
  }
 ],
 "metadata": {
  "kernelspec": {
   "display_name": "Python 3",
   "language": "python",
   "name": "python3"
  },
  "language_info": {
   "codemirror_mode": {
    "name": "ipython",
    "version": 3
   },
   "file_extension": ".py",
   "mimetype": "text/x-python",
   "name": "python",
   "nbconvert_exporter": "python",
   "pygments_lexer": "ipython3",
   "version": "3.7.6"
  }
 },
 "nbformat": 4,
 "nbformat_minor": 4
}
