{
 "cells": [
  {
   "cell_type": "code",
   "execution_count": 2,
   "metadata": {},
   "outputs": [],
   "source": [
    "import pandas as pd\n",
    "import re"
   ]
  },
  {
   "cell_type": "code",
   "execution_count": 6,
   "metadata": {},
   "outputs": [],
   "source": [
    "# b1 = re.sub('(\\\\\\\\x(([a-z][a-z])|([0-9][0-9])|([0-9][a-z])|([a-z][0-9])))|\\\\r\\\\n', '', b).lstrip()\n",
    "df1 = pd.read_json('/Users/sud/the_stuff/Studies/ECS/Project/critical_201303_23.json', lines=True)"
   ]
  },
  {
   "cell_type": "code",
   "execution_count": 87,
   "metadata": {},
   "outputs": [],
   "source": [
    "# df = pd.read_json('/Users/sud/the_stuff/Studies/ECS/Project/critical_201205_23.json', lines=True)"
   ]
  },
  {
   "cell_type": "code",
   "execution_count": 7,
   "metadata": {},
   "outputs": [],
   "source": [
    "# cleaning the banner of unwanted charecters...\n",
    "for rows in range(len(df1)):\n",
    "#     print(df1.iloc[rows]['banner'])\n",
    "    df1.at[rows,'banner'] = re.sub('(\\\\\\\\x(([a-z][a-z])|([0-9][0-9])|([0-9][a-z])|([a-z][0-9])))|\\\\r\\\\n', '', df1.iloc[rows]['banner']).lstrip()"
   ]
  },
  {
   "cell_type": "code",
   "execution_count": 11,
   "metadata": {},
   "outputs": [
    {
     "data": {
      "text/html": [
       "<div>\n",
       "<style scoped>\n",
       "    .dataframe tbody tr th:only-of-type {\n",
       "        vertical-align: middle;\n",
       "    }\n",
       "\n",
       "    .dataframe tbody tr th {\n",
       "        vertical-align: top;\n",
       "    }\n",
       "\n",
       "    .dataframe thead th {\n",
       "        text-align: right;\n",
       "    }\n",
       "</style>\n",
       "<table border=\"1\" class=\"dataframe\">\n",
       "  <thead>\n",
       "    <tr style=\"text-align: right;\">\n",
       "      <th></th>\n",
       "      <th>_id</th>\n",
       "      <th>ip</th>\n",
       "      <th>port</th>\n",
       "      <th>proto</th>\n",
       "      <th>banner</th>\n",
       "      <th>geo</th>\n",
       "      <th>name</th>\n",
       "      <th>t</th>\n",
       "    </tr>\n",
       "  </thead>\n",
       "  <tbody>\n",
       "    <tr>\n",
       "      <th>0</th>\n",
       "      <td>{'ip': '60.18.20.151', 'p': 23, 'h': '874a6e68...</td>\n",
       "      <td>60.18.20.151</td>\n",
       "      <td>23</td>\n",
       "      <td>tcp</td>\n",
       "      <td>!\\r(none) login:</td>\n",
       "      <td>{'c': 'CHN', 'city': 'Shenyang', 'reg': '19', ...</td>\n",
       "      <td>telnet</td>\n",
       "      <td>{'$date': 1362117628000}</td>\n",
       "    </tr>\n",
       "    <tr>\n",
       "      <th>1</th>\n",
       "      <td>{'ip': '117.21.31.52', 'p': 23, 'h': 'eebcaad2...</td>\n",
       "      <td>117.21.31.52</td>\n",
       "      <td>23</td>\n",
       "      <td>tcp</td>\n",
       "      <td>**********************************************...</td>\n",
       "      <td>{'c': 'CHN', 'loc': [35, 105]}</td>\n",
       "      <td>telnet</td>\n",
       "      <td>{'$date': 1362117630000}</td>\n",
       "    </tr>\n",
       "    <tr>\n",
       "      <th>2</th>\n",
       "      <td>{'ip': '65.122.81.130', 'p': 23, 'h': '419218d...</td>\n",
       "      <td>65.122.81.130</td>\n",
       "      <td>23</td>\n",
       "      <td>tcp</td>\n",
       "      <td>[2J[Hname:</td>\n",
       "      <td>{'c': 'USA', 'loc': [38, -97]}</td>\n",
       "      <td>telnet</td>\n",
       "      <td>{'$date': 1362117636000}</td>\n",
       "    </tr>\n",
       "    <tr>\n",
       "      <th>3</th>\n",
       "      <td>{'ip': '182.186.51.34', 'p': 23, 'h': '8265527...</td>\n",
       "      <td>182.186.51.34</td>\n",
       "      <td>23</td>\n",
       "      <td>tcp</td>\n",
       "      <td>!BCM96328 Broadband RouterLogin:</td>\n",
       "      <td>{'c': 'PAK', 'city': 'Multan', 'reg': '04', 'l...</td>\n",
       "      <td>telnet</td>\n",
       "      <td>{'$date': 1362117639000}</td>\n",
       "    </tr>\n",
       "    <tr>\n",
       "      <th>4</th>\n",
       "      <td>{'ip': '222.175.187.64', 'p': 23, 'h': '3a3976...</td>\n",
       "      <td>222.175.187.64</td>\n",
       "      <td>23</td>\n",
       "      <td>tcp</td>\n",
       "      <td>\"L</td>\n",
       "      <td>{'c': 'CHN', 'city': 'Jinan', 'reg': '25', 'lo...</td>\n",
       "      <td>telnet</td>\n",
       "      <td>{'$date': 1362117639000}</td>\n",
       "    </tr>\n",
       "    <tr>\n",
       "      <th>5</th>\n",
       "      <td>{'ip': '223.207.219.92', 'p': 23, 'h': 'f6b72c...</td>\n",
       "      <td>223.207.219.92</td>\n",
       "      <td>23</td>\n",
       "      <td>tcp</td>\n",
       "      <td>Password:</td>\n",
       "      <td>{'c': 'THA', 'loc': [15, 100]}</td>\n",
       "      <td>telnet</td>\n",
       "      <td>{'$date': 1362117639000}</td>\n",
       "    </tr>\n",
       "    <tr>\n",
       "      <th>6</th>\n",
       "      <td>{'ip': '183.28.225.253', 'p': 23, 'h': 'bd34af...</td>\n",
       "      <td>183.28.225.253</td>\n",
       "      <td>23</td>\n",
       "      <td>tcp</td>\n",
       "      <td>username:</td>\n",
       "      <td>{'c': 'CHN', 'city': 'Foshan', 'reg': '30', 'l...</td>\n",
       "      <td>telnet</td>\n",
       "      <td>{'$date': 1362117641000}</td>\n",
       "    </tr>\n",
       "    <tr>\n",
       "      <th>7</th>\n",
       "      <td>{'ip': '12.155.77.3', 'p': 23, 'h': '0522bbc8c...</td>\n",
       "      <td>12.155.77.3</td>\n",
       "      <td>23</td>\n",
       "      <td>tcp</td>\n",
       "      <td>ERRORERROR</td>\n",
       "      <td>{'c': 'USA', 'loc': [38, -97]}</td>\n",
       "      <td>telnet</td>\n",
       "      <td>{'$date': 1362117644000}</td>\n",
       "    </tr>\n",
       "    <tr>\n",
       "      <th>8</th>\n",
       "      <td>{'ip': '27.149.197.212', 'p': 23, 'h': '31556f...</td>\n",
       "      <td>27.149.197.212</td>\n",
       "      <td>23</td>\n",
       "      <td>tcp</td>\n",
       "      <td>!\\r\\r         SG2K-II\\rCopyright 2005-2008 sta...</td>\n",
       "      <td>{'c': 'CHN', 'city': 'Beijing', 'reg': '22', '...</td>\n",
       "      <td>telnet</td>\n",
       "      <td>{'$date': 1362117644000}</td>\n",
       "    </tr>\n",
       "    <tr>\n",
       "      <th>9</th>\n",
       "      <td>{'ip': '190.208.30.153', 'p': 23, 'h': 'cd137a...</td>\n",
       "      <td>190.208.30.153</td>\n",
       "      <td>23</td>\n",
       "      <td>tcp</td>\n",
       "      <td>**********************************************...</td>\n",
       "      <td>{'c': 'CHL', 'city': 'Santiago', 'reg': '12', ...</td>\n",
       "      <td>telnet</td>\n",
       "      <td>{'$date': 1362117646000}</td>\n",
       "    </tr>\n",
       "  </tbody>\n",
       "</table>\n",
       "</div>"
      ],
      "text/plain": [
       "                                                 _id              ip  port  \\\n",
       "0  {'ip': '60.18.20.151', 'p': 23, 'h': '874a6e68...    60.18.20.151    23   \n",
       "1  {'ip': '117.21.31.52', 'p': 23, 'h': 'eebcaad2...    117.21.31.52    23   \n",
       "2  {'ip': '65.122.81.130', 'p': 23, 'h': '419218d...   65.122.81.130    23   \n",
       "3  {'ip': '182.186.51.34', 'p': 23, 'h': '8265527...   182.186.51.34    23   \n",
       "4  {'ip': '222.175.187.64', 'p': 23, 'h': '3a3976...  222.175.187.64    23   \n",
       "5  {'ip': '223.207.219.92', 'p': 23, 'h': 'f6b72c...  223.207.219.92    23   \n",
       "6  {'ip': '183.28.225.253', 'p': 23, 'h': 'bd34af...  183.28.225.253    23   \n",
       "7  {'ip': '12.155.77.3', 'p': 23, 'h': '0522bbc8c...     12.155.77.3    23   \n",
       "8  {'ip': '27.149.197.212', 'p': 23, 'h': '31556f...  27.149.197.212    23   \n",
       "9  {'ip': '190.208.30.153', 'p': 23, 'h': 'cd137a...  190.208.30.153    23   \n",
       "\n",
       "  proto                                             banner  \\\n",
       "0   tcp                                  !\\r(none) login:    \n",
       "1   tcp  **********************************************...   \n",
       "2   tcp                                         [2J[Hname:   \n",
       "3   tcp                  !BCM96328 Broadband RouterLogin:    \n",
       "4   tcp                                                 \"L   \n",
       "5   tcp                                         Password:    \n",
       "6   tcp                                          username:   \n",
       "7   tcp                                         ERRORERROR   \n",
       "8   tcp  !\\r\\r         SG2K-II\\rCopyright 2005-2008 sta...   \n",
       "9   tcp  **********************************************...   \n",
       "\n",
       "                                                 geo    name  \\\n",
       "0  {'c': 'CHN', 'city': 'Shenyang', 'reg': '19', ...  telnet   \n",
       "1                     {'c': 'CHN', 'loc': [35, 105]}  telnet   \n",
       "2                     {'c': 'USA', 'loc': [38, -97]}  telnet   \n",
       "3  {'c': 'PAK', 'city': 'Multan', 'reg': '04', 'l...  telnet   \n",
       "4  {'c': 'CHN', 'city': 'Jinan', 'reg': '25', 'lo...  telnet   \n",
       "5                     {'c': 'THA', 'loc': [15, 100]}  telnet   \n",
       "6  {'c': 'CHN', 'city': 'Foshan', 'reg': '30', 'l...  telnet   \n",
       "7                     {'c': 'USA', 'loc': [38, -97]}  telnet   \n",
       "8  {'c': 'CHN', 'city': 'Beijing', 'reg': '22', '...  telnet   \n",
       "9  {'c': 'CHL', 'city': 'Santiago', 'reg': '12', ...  telnet   \n",
       "\n",
       "                          t  \n",
       "0  {'$date': 1362117628000}  \n",
       "1  {'$date': 1362117630000}  \n",
       "2  {'$date': 1362117636000}  \n",
       "3  {'$date': 1362117639000}  \n",
       "4  {'$date': 1362117639000}  \n",
       "5  {'$date': 1362117639000}  \n",
       "6  {'$date': 1362117641000}  \n",
       "7  {'$date': 1362117644000}  \n",
       "8  {'$date': 1362117644000}  \n",
       "9  {'$date': 1362117646000}  "
      ]
     },
     "execution_count": 11,
     "metadata": {},
     "output_type": "execute_result"
    }
   ],
   "source": [
    "df1[:10]"
   ]
  },
  {
   "cell_type": "code",
   "execution_count": 15,
   "metadata": {},
   "outputs": [],
   "source": [
    "j = df1['banner'].unique()"
   ]
  },
  {
   "cell_type": "code",
   "execution_count": 16,
   "metadata": {},
   "outputs": [
    {
     "data": {
      "text/plain": [
       "212153"
      ]
     },
     "execution_count": 16,
     "metadata": {},
     "output_type": "execute_result"
    }
   ],
   "source": [
    "len(j)"
   ]
  },
  {
   "cell_type": "code",
   "execution_count": 40,
   "metadata": {},
   "outputs": [],
   "source": [
    "for rows in range(len(df1)):\n",
    "#     print(type(df1.iloc[rows]['geo']['c']))\n",
    "    new_val = df1.iloc[rows]['geo']\n",
    "    if new_val:\n",
    "        df1.at[rows,'country'] = new_val['c']\n",
    "    else:\n",
    "        df1.at[rows,'country'] = ''\n",
    "    "
   ]
  },
  {
   "cell_type": "code",
   "execution_count": 90,
   "metadata": {},
   "outputs": [
    {
     "data": {
      "text/html": [
       "<div>\n",
       "<style scoped>\n",
       "    .dataframe tbody tr th:only-of-type {\n",
       "        vertical-align: middle;\n",
       "    }\n",
       "\n",
       "    .dataframe tbody tr th {\n",
       "        vertical-align: top;\n",
       "    }\n",
       "\n",
       "    .dataframe thead th {\n",
       "        text-align: right;\n",
       "    }\n",
       "</style>\n",
       "<table border=\"1\" class=\"dataframe\">\n",
       "  <thead>\n",
       "    <tr style=\"text-align: right;\">\n",
       "      <th></th>\n",
       "      <th>_id</th>\n",
       "      <th>ip</th>\n",
       "      <th>port</th>\n",
       "      <th>proto</th>\n",
       "      <th>banner</th>\n",
       "      <th>geo</th>\n",
       "      <th>name</th>\n",
       "      <th>t</th>\n",
       "      <th>country</th>\n",
       "    </tr>\n",
       "  </thead>\n",
       "  <tbody>\n",
       "    <tr>\n",
       "      <th>0</th>\n",
       "      <td>{'ip': '60.18.20.151', 'p': 23, 'h': '874a6e68...</td>\n",
       "      <td>60.18.20.151</td>\n",
       "      <td>23</td>\n",
       "      <td>tcp</td>\n",
       "      <td>!\\r(none) login:</td>\n",
       "      <td>{'c': 'CHN', 'city': 'Shenyang', 'reg': '19', ...</td>\n",
       "      <td>telnet</td>\n",
       "      <td>{'$date': 1362117628000}</td>\n",
       "      <td>CHN</td>\n",
       "    </tr>\n",
       "    <tr>\n",
       "      <th>1</th>\n",
       "      <td>{'ip': '117.21.31.52', 'p': 23, 'h': 'eebcaad2...</td>\n",
       "      <td>117.21.31.52</td>\n",
       "      <td>23</td>\n",
       "      <td>tcp</td>\n",
       "      <td>**********************************************...</td>\n",
       "      <td>{'c': 'CHN', 'loc': [35, 105]}</td>\n",
       "      <td>telnet</td>\n",
       "      <td>{'$date': 1362117630000}</td>\n",
       "      <td>CHN</td>\n",
       "    </tr>\n",
       "    <tr>\n",
       "      <th>2</th>\n",
       "      <td>{'ip': '65.122.81.130', 'p': 23, 'h': '419218d...</td>\n",
       "      <td>65.122.81.130</td>\n",
       "      <td>23</td>\n",
       "      <td>tcp</td>\n",
       "      <td>[2J[Hname:</td>\n",
       "      <td>{'c': 'USA', 'loc': [38, -97]}</td>\n",
       "      <td>telnet</td>\n",
       "      <td>{'$date': 1362117636000}</td>\n",
       "      <td>USA</td>\n",
       "    </tr>\n",
       "    <tr>\n",
       "      <th>3</th>\n",
       "      <td>{'ip': '182.186.51.34', 'p': 23, 'h': '8265527...</td>\n",
       "      <td>182.186.51.34</td>\n",
       "      <td>23</td>\n",
       "      <td>tcp</td>\n",
       "      <td>!BCM96328 Broadband RouterLogin:</td>\n",
       "      <td>{'c': 'PAK', 'city': 'Multan', 'reg': '04', 'l...</td>\n",
       "      <td>telnet</td>\n",
       "      <td>{'$date': 1362117639000}</td>\n",
       "      <td>PAK</td>\n",
       "    </tr>\n",
       "    <tr>\n",
       "      <th>4</th>\n",
       "      <td>{'ip': '222.175.187.64', 'p': 23, 'h': '3a3976...</td>\n",
       "      <td>222.175.187.64</td>\n",
       "      <td>23</td>\n",
       "      <td>tcp</td>\n",
       "      <td>\"L</td>\n",
       "      <td>{'c': 'CHN', 'city': 'Jinan', 'reg': '25', 'lo...</td>\n",
       "      <td>telnet</td>\n",
       "      <td>{'$date': 1362117639000}</td>\n",
       "      <td>CHN</td>\n",
       "    </tr>\n",
       "    <tr>\n",
       "      <th>...</th>\n",
       "      <td>...</td>\n",
       "      <td>...</td>\n",
       "      <td>...</td>\n",
       "      <td>...</td>\n",
       "      <td>...</td>\n",
       "      <td>...</td>\n",
       "      <td>...</td>\n",
       "      <td>...</td>\n",
       "      <td>...</td>\n",
       "    </tr>\n",
       "    <tr>\n",
       "      <th>2099079</th>\n",
       "      <td>{'ip': '60.248.2.250', 'p': 23, 'h': '8d9d7a67...</td>\n",
       "      <td>60.248.2.250</td>\n",
       "      <td>23</td>\n",
       "      <td>tcp</td>\n",
       "      <td>#'!localhost login:</td>\n",
       "      <td>{'c': 'TWN', 'city': 'Taipei', 'reg': '03', 'l...</td>\n",
       "      <td>telnet</td>\n",
       "      <td>{'$date': 1364792372000}</td>\n",
       "      <td>TWN</td>\n",
       "    </tr>\n",
       "    <tr>\n",
       "      <th>2099080</th>\n",
       "      <td>{'ip': '81.114.152.146', 'p': 23, 'h': 'c76c4c...</td>\n",
       "      <td>81.114.152.146</td>\n",
       "      <td>23</td>\n",
       "      <td>tcp</td>\n",
       "      <td>~\\\\|//~                   -(o o)-  -----------...</td>\n",
       "      <td>{'c': 'ITA', 'loc': [42.83330154418945, 12.833...</td>\n",
       "      <td>telnet</td>\n",
       "      <td>{'$date': 1364792372000}</td>\n",
       "      <td>ITA</td>\n",
       "    </tr>\n",
       "    <tr>\n",
       "      <th>2099081</th>\n",
       "      <td>{'ip': '222.44.9.142', 'p': 23, 'h': '8838b283...</td>\n",
       "      <td>222.44.9.142</td>\n",
       "      <td>23</td>\n",
       "      <td>tcp</td>\n",
       "      <td>User Access VerificationUsername:</td>\n",
       "      <td>{'c': 'CHN', 'city': 'Chaoyang', 'reg': '19', ...</td>\n",
       "      <td>telnet</td>\n",
       "      <td>{'$date': 1364792375000}</td>\n",
       "      <td>CHN</td>\n",
       "    </tr>\n",
       "    <tr>\n",
       "      <th>2099082</th>\n",
       "      <td>{'ip': '222.89.240.184', 'p': 23, 'h': '4d16a7...</td>\n",
       "      <td>222.89.240.184</td>\n",
       "      <td>23</td>\n",
       "      <td>tcp</td>\n",
       "      <td>!\\rZXV10-I532_I516 login:</td>\n",
       "      <td>{'c': 'CHN', 'city': 'Beijing', 'reg': '22', '...</td>\n",
       "      <td>telnet</td>\n",
       "      <td>{'$date': 1364792375000}</td>\n",
       "      <td>CHN</td>\n",
       "    </tr>\n",
       "    <tr>\n",
       "      <th>2099083</th>\n",
       "      <td>{'ip': '189.4.100.109', 'p': 23, 'h': '906c05a...</td>\n",
       "      <td>189.4.100.109</td>\n",
       "      <td>23</td>\n",
       "      <td>tcp</td>\n",
       "      <td>!Grandstream HT-503  V1.4A Command Shell Copyr...</td>\n",
       "      <td>{'c': 'BRA', 'city': 'Florian\\xf3polis', 'reg'...</td>\n",
       "      <td>telnet</td>\n",
       "      <td>{'$date': 1364792377000}</td>\n",
       "      <td>BRA</td>\n",
       "    </tr>\n",
       "  </tbody>\n",
       "</table>\n",
       "<p>2099084 rows × 9 columns</p>\n",
       "</div>"
      ],
      "text/plain": [
       "                                                       _id              ip  \\\n",
       "0        {'ip': '60.18.20.151', 'p': 23, 'h': '874a6e68...    60.18.20.151   \n",
       "1        {'ip': '117.21.31.52', 'p': 23, 'h': 'eebcaad2...    117.21.31.52   \n",
       "2        {'ip': '65.122.81.130', 'p': 23, 'h': '419218d...   65.122.81.130   \n",
       "3        {'ip': '182.186.51.34', 'p': 23, 'h': '8265527...   182.186.51.34   \n",
       "4        {'ip': '222.175.187.64', 'p': 23, 'h': '3a3976...  222.175.187.64   \n",
       "...                                                    ...             ...   \n",
       "2099079  {'ip': '60.248.2.250', 'p': 23, 'h': '8d9d7a67...    60.248.2.250   \n",
       "2099080  {'ip': '81.114.152.146', 'p': 23, 'h': 'c76c4c...  81.114.152.146   \n",
       "2099081  {'ip': '222.44.9.142', 'p': 23, 'h': '8838b283...    222.44.9.142   \n",
       "2099082  {'ip': '222.89.240.184', 'p': 23, 'h': '4d16a7...  222.89.240.184   \n",
       "2099083  {'ip': '189.4.100.109', 'p': 23, 'h': '906c05a...   189.4.100.109   \n",
       "\n",
       "         port proto                                             banner  \\\n",
       "0          23   tcp                                  !\\r(none) login:    \n",
       "1          23   tcp  **********************************************...   \n",
       "2          23   tcp                                         [2J[Hname:   \n",
       "3          23   tcp                  !BCM96328 Broadband RouterLogin:    \n",
       "4          23   tcp                                                 \"L   \n",
       "...       ...   ...                                                ...   \n",
       "2099079    23   tcp                               #'!localhost login:    \n",
       "2099080    23   tcp  ~\\\\|//~                   -(o o)-  -----------...   \n",
       "2099081    23   tcp                 User Access VerificationUsername:    \n",
       "2099082    23   tcp                         !\\rZXV10-I532_I516 login:    \n",
       "2099083    23   tcp  !Grandstream HT-503  V1.4A Command Shell Copyr...   \n",
       "\n",
       "                                                       geo    name  \\\n",
       "0        {'c': 'CHN', 'city': 'Shenyang', 'reg': '19', ...  telnet   \n",
       "1                           {'c': 'CHN', 'loc': [35, 105]}  telnet   \n",
       "2                           {'c': 'USA', 'loc': [38, -97]}  telnet   \n",
       "3        {'c': 'PAK', 'city': 'Multan', 'reg': '04', 'l...  telnet   \n",
       "4        {'c': 'CHN', 'city': 'Jinan', 'reg': '25', 'lo...  telnet   \n",
       "...                                                    ...     ...   \n",
       "2099079  {'c': 'TWN', 'city': 'Taipei', 'reg': '03', 'l...  telnet   \n",
       "2099080  {'c': 'ITA', 'loc': [42.83330154418945, 12.833...  telnet   \n",
       "2099081  {'c': 'CHN', 'city': 'Chaoyang', 'reg': '19', ...  telnet   \n",
       "2099082  {'c': 'CHN', 'city': 'Beijing', 'reg': '22', '...  telnet   \n",
       "2099083  {'c': 'BRA', 'city': 'Florian\\xf3polis', 'reg'...  telnet   \n",
       "\n",
       "                                t country  \n",
       "0        {'$date': 1362117628000}     CHN  \n",
       "1        {'$date': 1362117630000}     CHN  \n",
       "2        {'$date': 1362117636000}     USA  \n",
       "3        {'$date': 1362117639000}     PAK  \n",
       "4        {'$date': 1362117639000}     CHN  \n",
       "...                           ...     ...  \n",
       "2099079  {'$date': 1364792372000}     TWN  \n",
       "2099080  {'$date': 1364792372000}     ITA  \n",
       "2099081  {'$date': 1364792375000}     CHN  \n",
       "2099082  {'$date': 1364792375000}     CHN  \n",
       "2099083  {'$date': 1364792377000}     BRA  \n",
       "\n",
       "[2099084 rows x 9 columns]"
      ]
     },
     "execution_count": 90,
     "metadata": {},
     "output_type": "execute_result"
    }
   ],
   "source": [
    "df1"
   ]
  },
  {
   "cell_type": "code",
   "execution_count": 91,
   "metadata": {},
   "outputs": [],
   "source": [
    "# countries = df1.groupby('country')['country'].nunique()\n",
    "countries = df1.country.value_counts()"
   ]
  },
  {
   "cell_type": "code",
   "execution_count": 92,
   "metadata": {},
   "outputs": [
    {
     "data": {
      "text/plain": [
       "232"
      ]
     },
     "execution_count": 92,
     "metadata": {},
     "output_type": "execute_result"
    }
   ],
   "source": [
    "len(countries)"
   ]
  },
  {
   "cell_type": "code",
   "execution_count": 96,
   "metadata": {},
   "outputs": [
    {
     "data": {
      "text/plain": [
       "CHN    669701\n",
       "USA    263327\n",
       "KOR    237134\n",
       "BRA     73795\n",
       "IND     65251\n",
       "RUS     45631\n",
       "ITA     45181\n",
       "THA     39735\n",
       "PAK     33966\n",
       "TWN     28035\n",
       "        25089\n",
       "MYS     24349\n",
       "COL     23374\n",
       "VNM     22817\n",
       "FRA     22588\n",
       "GBR     21840\n",
       "TUR     21245\n",
       "DOM     20278\n",
       "ESP     19251\n",
       "HKG     17878\n",
       "JPN     17586\n",
       "POL     16422\n",
       "DEU     15907\n",
       "CAN     15686\n",
       "PER     15605\n",
       "SAU     14712\n",
       "ECU     13865\n",
       "MEX     13732\n",
       "IDN     12574\n",
       "ZAF     11593\n",
       "AUS     10239\n",
       "IRN     10234\n",
       "ARG      9263\n",
       "UKR      7602\n",
       "CZE      7141\n",
       "SLV      6445\n",
       "CHL      6394\n",
       "DNK      6169\n",
       "PHL      6155\n",
       "CRI      5560\n",
       "KWT      5491\n",
       "SWE      5451\n",
       "SGP      5381\n",
       "ISR      5366\n",
       "PRI      5111\n",
       "NLD      5059\n",
       "NZL      3894\n",
       "PRT      3811\n",
       "EGY      3798\n",
       "GEO      3694\n",
       "Name: country, dtype: int64"
      ]
     },
     "execution_count": 96,
     "metadata": {},
     "output_type": "execute_result"
    }
   ],
   "source": [
    "countries[0:50]"
   ]
  },
  {
   "cell_type": "code",
   "execution_count": 100,
   "metadata": {},
   "outputs": [],
   "source": [
    "import matplotlib.pyplot as plt"
   ]
  },
  {
   "cell_type": "code",
   "execution_count": 107,
   "metadata": {},
   "outputs": [
    {
     "data": {
      "image/png": "[encoded data removed]",
      "text/plain": [
       "<Figure size 1440x720 with 1 Axes>"
      ]
     },
     "metadata": {
      "needs_background": "light"
     },
     "output_type": "display_data"
    }
   ],
   "source": [
    "countries_plot = countries[0:50].plot.bar(figsize=(20,10))"
   ]
  },
  {
   "cell_type": "code",
   "execution_count": 108,
   "metadata": {},
   "outputs": [
    {
     "data": {
      "text/plain": [
       "{'ip': '60.18.20.151', 'p': 23, 'h': '874a6e68681c0611523484eba35c2618'}"
      ]
     },
     "execution_count": 108,
     "metadata": {},
     "output_type": "execute_result"
    }
   ],
   "source": [
    "df1._id[0]"
   ]
  },
  {
   "cell_type": "code",
   "execution_count": 110,
   "metadata": {},
   "outputs": [],
   "source": [
    "count_router = 0\n",
    "count_server = 0\n",
    "router = \"router\"\n",
    "for rows in range(len(df1)):\n",
    "    if router in df1.iloc[rows][\"banner\"].lower():\n",
    "        count_router+=1\n",
    "    else:\n",
    "        count_server+=1"
   ]
  },
  {
   "cell_type": "code",
   "execution_count": 111,
   "metadata": {},
   "outputs": [
    {
     "data": {
      "text/plain": [
       "184061"
      ]
     },
     "execution_count": 111,
     "metadata": {},
     "output_type": "execute_result"
    }
   ],
   "source": [
    "count_router"
   ]
  },
  {
   "cell_type": "code",
   "execution_count": 112,
   "metadata": {},
   "outputs": [
    {
     "data": {
      "text/plain": [
       "1915023"
      ]
     },
     "execution_count": 112,
     "metadata": {},
     "output_type": "execute_result"
    }
   ],
   "source": [
    "count_server"
   ]
  },
  {
   "cell_type": "code",
   "execution_count": 113,
   "metadata": {},
   "outputs": [
    {
     "data": {
      "text/plain": [
       "2099084"
      ]
     },
     "execution_count": 113,
     "metadata": {},
     "output_type": "execute_result"
    }
   ],
   "source": [
    "len(df1)"
   ]
  },
  {
   "cell_type": "code",
   "execution_count": null,
   "metadata": {},
   "outputs": [],
   "source": []
  }
 ],
 "metadata": {
  "kernelspec": {
   "display_name": "Python 3",
   "language": "python",
   "name": "python3"
  },
  "language_info": {
   "codemirror_mode": {
    "name": "ipython",
    "version": 3
   },
   "file_extension": ".py",
   "mimetype": "text/x-python",
   "name": "python",
   "nbconvert_exporter": "python",
   "pygments_lexer": "ipython3",
   "version": "3.7.6"
  }
 },
 "nbformat": 4,
 "nbformat_minor": 4
}
