{
 "cells": [
  {
   "cell_type": "code",
   "execution_count": 1,
   "metadata": {},
   "outputs": [],
   "source": [
    "import pandas as pd\n",
    "import re\n",
    "import matplotlib.pyplot as plt"
   ]
  },
  {
   "cell_type": "code",
   "execution_count": 2,
   "metadata": {},
   "outputs": [],
   "source": [
    "# change path of file accordingly\n",
    "df1 = pd.read_json('../critical_201303_23.json', lines=True)"
   ]
  },
  {
   "cell_type": "code",
   "execution_count": 8,
   "metadata": {},
   "outputs": [],
   "source": [
    "# Getting the number of unique IP addresses per country appearing in the dataset df...\n",
    "def country_filter(df):\n",
    "    for rows in range(len(df)):\n",
    "        new_val = df.iloc[rows]['geo']\n",
    "        if new_val:\n",
    "            df.at[rows,'country'] = new_val['c']\n",
    "        else:\n",
    "            df.at[rows,'country'] = ''\n",
    "    df_unique = df.drop_duplicates(subset='ip')\n",
    "    per_country_counts = df_unique.country.value_counts()\n",
    "    return per_country_counts"
   ]
  },
  {
   "cell_type": "code",
   "execution_count": 9,
   "metadata": {},
   "outputs": [],
   "source": [
    "# cleaning the banner of unwanted charecters...\n",
    "def clean_banner(df):\n",
    "    for rows in range(len(df)):\n",
    "        df.at[rows,'banner'] = re.sub('(\\\\\\\\x(([a-z][a-z])|([0-9][0-9])|([0-9][a-z])|([a-z][0-9])))|\\\\r\\\\n', '', df.iloc[rows]['banner']).lstrip()"
   ]
  },
  {
   "cell_type": "code",
   "execution_count": 10,
   "metadata": {},
   "outputs": [],
   "source": [
    "def count_routers(df):\n",
    "    count_router = 0\n",
    "    count_server = 0\n",
    "    router = \"router\"\n",
    "    for rows in range(len(df)):\n",
    "        if router in df.iloc[rows][\"banner\"].lower():\n",
    "            count_router+=1\n",
    "        else:\n",
    "            count_server+=1\n",
    "    return (count_router, count_server)"
   ]
  },
  {
   "cell_type": "code",
   "execution_count": 11,
   "metadata": {},
   "outputs": [
    {
     "name": "stdout",
     "output_type": "stream",
     "text": [
      "CHN    665802\n",
      "USA    262478\n",
      "KOR    236931\n",
      "Name: country, dtype: int64\n"
     ]
    }
   ],
   "source": [
    "per_country_ips = country_filter(df1)\n",
    "print(per_country_ips[:3])"
   ]
  }
 ],
 "metadata": {
  "kernelspec": {
   "display_name": "Python 3",
   "language": "python",
   "name": "python3"
  },
  "language_info": {
   "codemirror_mode": {
    "name": "ipython",
    "version": 3
   },
   "file_extension": ".py",
   "mimetype": "text/x-python",
   "name": "python",
   "nbconvert_exporter": "python",
   "pygments_lexer": "ipython3",
   "version": "3.7.6"
  }
 },
 "nbformat": 4,
 "nbformat_minor": 4
}
