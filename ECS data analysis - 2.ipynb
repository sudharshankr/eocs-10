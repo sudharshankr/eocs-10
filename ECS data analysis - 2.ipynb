{
 "cells": [
  {
   "cell_type": "code",
   "execution_count": 1,
   "metadata": {},
   "outputs": [],
   "source": [
    "import pandas as pd\n",
    "import re\n",
    "import matplotlib.pyplot as plt\n",
    "import numpy as np\n",
    "import math"
   ]
  },
  {
   "cell_type": "code",
   "execution_count": 2,
   "metadata": {},
   "outputs": [],
   "source": [
    "# Getting the number of unique IP addresses per country appearing in the dataset df and adding the `country` column...\n",
    "def duplicate_filter(df):\n",
    "    for rows in range(len(df)):\n",
    "        new_val = df.iloc[rows]['geo']\n",
    "        if new_val:\n",
    "            df.at[rows,'country'] = new_val['c']\n",
    "        else:\n",
    "            df.at[rows,'country'] = ''\n",
    "    df_unique = df.drop_duplicates(subset='ip')\n",
    "    per_country_counts = df_unique.country.value_counts()\n",
    "    return (df_unique, per_country_counts)"
   ]
  },
  {
   "cell_type": "code",
   "execution_count": 3,
   "metadata": {},
   "outputs": [],
   "source": [
    "# cleaning the banner of unwanted charecters...\n",
    "def clean_banner(df):\n",
    "    for rows in range(len(df)):\n",
    "        df.at[rows,'banner'] = re.sub('(\\\\\\\\x(([a-z][a-z])|([0-9][0-9])|([0-9][a-z])|([a-z][0-9])))|\\\\r\\\\n', '', df.iloc[rows]['banner']).lstrip()\n",
    "        \n",
    "    return df"
   ]
  },
  {
   "cell_type": "code",
   "execution_count": 4,
   "metadata": {},
   "outputs": [],
   "source": [
    "# Counting routers...\n",
    "def count_routers(df):\n",
    "    count_router = 0\n",
    "    count_server = 0\n",
    "    router = \"router\"\n",
    "    for rows in range(len(df)):\n",
    "        if router in df.iloc[rows][\"banner\"].lower():\n",
    "            count_router+=1\n",
    "        else:\n",
    "            count_server+=1\n",
    "    return (count_router, count_server)"
   ]
  },
  {
   "cell_type": "code",
   "execution_count": 5,
   "metadata": {},
   "outputs": [],
   "source": [
    "#Searching banners for specific implementations given in the `keyword` list and counting their nos. for each country...\n",
    "def country_banner_filter(df):\n",
    "    keywords = ['cisco','d-link','freebsd','jetdirect','netgear','solaris']\n",
    "#     keywords_chn = {'cisco':0,'d-link':0,'freebsd':0,'jetdirect':0,'netgear':0,'solaris':0}\n",
    "#     keywords_usa = {'cisco':0,'d-link':0,'freebsd':0,'jetdirect':0,'netgear':0,'solaris':0}\n",
    "#     keywords_kor = {'cisco':0,'d-link':0,'freebsd':0,'jetdirect':0,'netgear':0,'solaris':0}\n",
    "#     potential_ips = {'CHN':[], 'USA':[], 'KOR':[]}\n",
    "    potential_ips = {'DEU':[], 'NLD':[], 'GBR':[]}\n",
    "    df = df[df.country.isin(list(potential_ips.keys()))]\n",
    "    comp_flag = 0\n",
    "    for rows in range(len(df)):\n",
    "        country = df.iloc[rows]['country']\n",
    "        if country in potential_ips.keys():\n",
    "            banner_info = df.iloc[rows]['banner'].lower()\n",
    "            for i in range(len(keywords)):\n",
    "                keyword = keywords[i]\n",
    "                if keyword in banner_info:\n",
    "                    potential_ips[country].append(df.iloc[rows]['ip'])\n",
    "                    #sources[country].add(keyword)\n",
    "#                     if country == 'CHN':\n",
    "#                         keywords_chn[keyword]+=1\n",
    "#                     elif country == 'USA':\n",
    "#                         keywords_usa[keyword]+=1\n",
    "#                     elif country == 'KOR':\n",
    "#                         keywords_kor[keyword]+=1\n",
    "                    i = len(keywords)\n",
    "                               \n",
    "#     return (keywords_chn, keywords_usa, keywords_kor)\n",
    "    return (potential_ips)"
   ]
  },
  {
   "cell_type": "code",
   "execution_count": 6,
   "metadata": {},
   "outputs": [],
   "source": [
    "def extract_banner_wise_data(filename):\n",
    "    print(\"Extracting banner data for\", filename)\n",
    "    df = pd.read_json(filename, lines=True)\n",
    "    print('Filtering countries and duplicates...')\n",
    "    (df, country_stats) = duplicate_filter(df)\n",
    "    print('Scanning banners...')\n",
    "#     (keywords_chn, keywords_usa, keywords_kor) = country_banner_filter(df)\n",
    "    (potential_ips) = country_banner_filter(df)\n",
    "#     return (df, country_stats, keywords_chn, keywords_usa, keywords_kor)\n",
    "    return (df, country_stats, potential_ips)"
   ]
  },
  {
   "cell_type": "code",
   "execution_count": 7,
   "metadata": {},
   "outputs": [],
   "source": [
    "def extract_ips(filename):\n",
    "#     print(\"Reading file\", filename)\n",
    "    df = pd.read_json(filename, lines=True)\n",
    "    print('Processing ', filename)\n",
    "    (df, country_stats) = duplicate_filter(df)\n",
    "    return df, country_stats"
   ]
  },
  {
   "cell_type": "code",
   "execution_count": 8,
   "metadata": {},
   "outputs": [
    {
     "name": "stdout",
     "output_type": "stream",
     "text": [
      "Processing  ../Data files/critical_201208_23.json\n",
      "Processing  ../Data files/critical_201208_22.json\n"
     ]
    }
   ],
   "source": [
    "# df_mar13_telnet, country_stats_mar13_telnet = extract_ips(\"../Data files/critical_201303_23.json\")\n",
    "# df_mar13_ssh, country_stats_mar13_ssh = extract_ips(\"../Data files/critical_201303_22.json\")\n",
    "\n",
    "# df_jan13_telnet, country_stats_jan13_telnet = extract_ips(\"../Data files/critical_201301_23.json\")\n",
    "# df_jan13_ssh, country_stats_jan13_ssh = extract_ips(\"../Data files/critical_201301_22.json\")\n",
    "\n",
    "# df_feb13_telnet, country_stats_feb13_telnet = extract_ips(\"../Data files/critical_201302_23.json\")\n",
    "# df_feb13_ssh, country_stats_feb13_ssh = extract_ips(\"../Data files/critical_201302_22.json\")\n",
    "\n",
    "# df_dec12_telnet, country_stats_dec12_telnet = extract_ips(\"../Data files/critical_201212_23.json\")\n",
    "# df_dec12_ssh, country_stats_dec12_ssh = extract_ips(\"../Data files/critical_201212_22.json\")\n",
    "\n",
    "# df_nov12_telnet, country_stats_nov12_telnet = extract_ips(\"../Data files/critical_201211_23.json\")\n",
    "# df_nov12_ssh, country_stats_nov12_ssh = extract_ips(\"../Data files/critical_201211_22.json\")\n",
    "\n",
    "# df_may12_telnet, country_stats_may12_telnet = extract_ips(\"../Data files/critical_201205_23.json\")\n",
    "# df_may12_ssh, country_stats_may12_ssh = extract_ips(\"../Data files/critical_201205_22.json\")\n",
    "\n",
    "\n",
    "df_aug12_telnet, country_stats_aug12_telnet = extract_ips(\"../Data files/critical_201208_23.json\")\n",
    "df_aug12_ssh, country_stats_aug12_ssh = extract_ips(\"../Data files/critical_201208_22.json\")"
   ]
  },
  {
   "cell_type": "code",
   "execution_count": 9,
   "metadata": {},
   "outputs": [],
   "source": [
    "def get_ratios(country_stats_telnet, country_stats_ssh, countries=['NLD', 'DEU', 'GBR', 'USA', 'AUS', 'CAN', 'FIN', 'FRA', 'DNK']):\n",
    "    for country in countries:\n",
    "        print(country, (country_stats_telnet[country] / (country_stats_ssh[country] + country_stats_telnet[country])))"
   ]
  },
  {
   "cell_type": "code",
   "execution_count": 10,
   "metadata": {},
   "outputs": [],
   "source": [
    "def get_nos(country_stats_telnet, countries=['NLD', 'DEU', 'GBR', 'USA', 'AUS', 'CAN', 'FIN', 'FRA', 'DNK']):\n",
    "    for country in countries:\n",
    "        print(country, country_stats_telnet[country])"
   ]
  },
  {
   "cell_type": "code",
   "execution_count": 11,
   "metadata": {},
   "outputs": [
    {
     "name": "stdout",
     "output_type": "stream",
     "text": [
      "NLD 0.16277154981316105\n",
      "DEU 0.1453117467009003\n",
      "GBR 0.28449654315590883\n",
      "USA 0.24275285516377446\n",
      "AUS 0.3889538661468486\n",
      "CAN 0.3428277007423415\n",
      "FIN 0.19080906148867313\n",
      "FRA 0.3022993178840855\n",
      "DNK 0.25638482519216466\n"
     ]
    }
   ],
   "source": [
    "get_ratios(country_stats_aug12_telnet, country_stats_aug12_ssh)\n",
    "# get_nos(country_stats_may12_telnet)"
   ]
  },
  {
   "cell_type": "code",
   "execution_count": null,
   "metadata": {},
   "outputs": [],
   "source": []
  }
 ],
 "metadata": {
  "kernelspec": {
   "display_name": "Python 3",
   "language": "python",
   "name": "python3"
  },
  "language_info": {
   "codemirror_mode": {
    "name": "ipython",
    "version": 3
   },
   "file_extension": ".py",
   "mimetype": "text/x-python",
   "name": "python",
   "nbconvert_exporter": "python",
   "pygments_lexer": "ipython3",
   "version": "3.7.6"
  }
 },
 "nbformat": 4,
 "nbformat_minor": 4
}
